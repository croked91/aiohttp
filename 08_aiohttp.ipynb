{
  "nbformat": 4,
  "nbformat_minor": 0,
  "metadata": {
    "colab": {
      "provenance": []
    },
    "kernelspec": {
      "name": "python3",
      "display_name": "Python 3"
    },
    "language_info": {
      "name": "python"
    }
  },
  "cells": [
    {
      "cell_type": "code",
      "execution_count": 1,
      "metadata": {
        "colab": {
          "base_uri": "https://localhost:8080/"
        },
        "id": "VVX6SsKhJOL3",
        "outputId": "d28cad22-1e19-4d9b-f584-91c22033dae1"
      },
      "outputs": [
        {
          "output_type": "stream",
          "name": "stdout",
          "text": [
            "Requirement already satisfied: aiohttp in /usr/local/lib/python3.11/dist-packages (3.11.15)\n",
            "Requirement already satisfied: aiohappyeyeballs>=2.3.0 in /usr/local/lib/python3.11/dist-packages (from aiohttp) (2.6.1)\n",
            "Requirement already satisfied: aiosignal>=1.1.2 in /usr/local/lib/python3.11/dist-packages (from aiohttp) (1.3.2)\n",
            "Requirement already satisfied: attrs>=17.3.0 in /usr/local/lib/python3.11/dist-packages (from aiohttp) (25.3.0)\n",
            "Requirement already satisfied: frozenlist>=1.1.1 in /usr/local/lib/python3.11/dist-packages (from aiohttp) (1.5.0)\n",
            "Requirement already satisfied: multidict<7.0,>=4.5 in /usr/local/lib/python3.11/dist-packages (from aiohttp) (6.3.1)\n",
            "Requirement already satisfied: propcache>=0.2.0 in /usr/local/lib/python3.11/dist-packages (from aiohttp) (0.3.1)\n",
            "Requirement already satisfied: yarl<2.0,>=1.17.0 in /usr/local/lib/python3.11/dist-packages (from aiohttp) (1.18.3)\n",
            "Requirement already satisfied: idna>=2.0 in /usr/local/lib/python3.11/dist-packages (from yarl<2.0,>=1.17.0->aiohttp) (3.10)\n"
          ]
        }
      ],
      "source": [
        "%pip install aiohttp"
      ]
    },
    {
      "cell_type": "code",
      "source": [
        "import aiohttp\n",
        "import asyncio\n",
        "import xml.etree.ElementTree as ET\n",
        "from datetime import datetime\n",
        "\n",
        "async def fetch_quote(session, ticker):\n",
        "    url = f'https://iss.moex.com/iss/engines/stock/markets/shares/boards/TQBR/securities/{ticker}.xml'\n",
        "    async with session.get(url) as response:\n",
        "        xml_data = await response.text()\n",
        "        root = ET.fromstring(xml_data)\n",
        "        for row in root.findall(\".//row\"):\n",
        "            if 'LAST' in row.attrib:\n",
        "                return float(row.attrib['LAST'])\n",
        "        return None\n",
        "\n",
        "\n",
        "async def get_moexbc(tickers_data):\n",
        "    print(\"Начинаем расчет индекса MOEXBC\")\n",
        "    print(f\"Количество компаний: {len(tickers_data)}\")\n",
        "    print(\"\\n\" + \"=\"*85)\n",
        "    print(\"| {:^6} | {:^10} | {:^10} | {:^10} | {:^10} | {:^10} |\".format(\n",
        "        \"Тикер\", \"База кап\", \"База цена\", \"Тек. цена\", \"Тек. кап\", \"Вес\"))\n",
        "    print(\"=\"*85)\n",
        "\n",
        "\n",
        "    total_base = sum(data['base_cap'] for data in tickers_data.values())\n",
        "    base_idx = 20038.52\n",
        "    divider = base_idx / total_base\n",
        "\n",
        "    async with aiohttp.ClientSession() as session:\n",
        "        tasks = [fetch_quote(session, ticker) for ticker in tickers_data]\n",
        "        prices = await asyncio.gather(*tasks)\n",
        "\n",
        "        for ticker, price in zip(tickers_data, prices):\n",
        "            data = tickers_data[ticker]\n",
        "            data['last_price'] = price if price else 0.0\n",
        "            data['current_cap'] = data['base_cap'] / data['base_price'] * data['last_price']\n",
        "            data['weight'] = data['base_cap'] / total_base\n",
        "\n",
        "            print(\"| {:^6} | {:>10.2f} | {:>10.2f} | {:>10.2f} | {:>10.2f} | {:>8.2f}\".format(\n",
        "                ticker,\n",
        "                data['base_cap'],\n",
        "                data['base_price'],\n",
        "                data['last_price'],\n",
        "                data['current_cap'],\n",
        "                data['weight'])\n",
        "            )\n",
        "\n",
        "\n",
        "\n",
        "    print(\"=\"*85 + \"\\n\")\n",
        "    print(f\"Общая базовая капитализация: {total_base:,.2f}\")\n",
        "    print(f\"Общая текущая капитализация: {total_current:,.2f}\")\n",
        "    print(f\"Делитель индекса: {base_idx / total_base:.6f}\")\n",
        "    print(\"\\n\" + \"=\"*85)\n",
        "    print(f\"ИТОГОВЫЙ ИНДЕКС MOEXBC: {index:,.2f}\")\n",
        "\n",
        "    return index\n",
        "\n",
        "async def main():\n",
        "    tickers_data = {\n",
        "        'CHMF': {'base_cap': 110.595, 'base_price': 1435.00},\n",
        "        'GAZP': {'base_cap': 643.752, 'base_price': 162.25},\n",
        "        'GMKN': {'base_cap': 388.556, 'base_price': 163.96},\n",
        "        'IRAO': {'base_cap': 89.209, 'base_price': 4.069},\n",
        "        'LKOH': {'base_cap': 772.998, 'base_price': 6911.50},\n",
        "        'MGNT': {'base_cap': 109.185, 'base_price': 7239.00},\n",
        "        'NLMK': {'base_cap': 92.078, 'base_price': 182.90},\n",
        "        'NVTK': {'base_cap': 189.247, 'base_price': 1484.00},\n",
        "        'PLZL': {'base_cap': 130.218, 'base_price': 10875.00},\n",
        "        'ROSN': {'base_cap': 139.966, 'base_price': 600.30},\n",
        "        'RUAL': {'base_cap': 95.415, 'base_price': 34.89},\n",
        "        'SBER': {'base_cap': 701.917, 'base_price': 276.00},\n",
        "        'SNGS': {'base_cap': 171.632, 'base_price': 28.215},\n",
        "        'TATN': {'base_cap': 321.656, 'base_price': 688.20},\n",
        "        'YDEX': {'base_cap': 83.504, 'base_price': 2611.00}\n",
        "    }\n",
        "\n",
        "    print(\"\\nЗапуск расчета индекса MOEXBC\")\n",
        "    print(\"=\"*85)\n",
        "\n",
        "    start_time = datetime.now()\n",
        "    index = await get_moexbc(tickers_data)\n",
        "    duration = (datetime.now() - start_time).total_seconds()\n",
        "\n",
        "    print(f\"\\nВремя выполнения: {duration:.2f} секунд\")\n",
        "    print(\"=\"*85)\n",
        "\n",
        "if __name__ == \"__main__\":\n",
        "    import nest_asyncio\n",
        "    nest_asyncio.apply()\n",
        "    asyncio.run(main())"
      ],
      "metadata": {
        "id": "9zg-uuFvJ8cQ",
        "colab": {
          "base_uri": "https://localhost:8080/",
          "height": 811
        },
        "outputId": "a16f6e4e-0517-4e75-fc65-0d65767bb895"
      },
      "execution_count": 73,
      "outputs": [
        {
          "output_type": "stream",
          "name": "stdout",
          "text": [
            "\n",
            "Запуск расчета индекса MOEXBC\n",
            "=====================================================================================\n",
            "Начинаем расчет индекса MOEXBC\n",
            "Количество компаний: 15\n",
            "\n",
            "=====================================================================================\n",
            "| Тикер  |  База кап  | База цена  | Тек. цена  |  Тек. кап  |    Вес     |\n",
            "=====================================================================================\n",
            "|  CHMF  |     110.59 |    1435.00 |    1091.40 |      84.11 |     0.03\n",
            "|  GAZP  |     643.75 |     162.25 |     127.60 |     506.27 |     0.16\n",
            "|  GMKN  |     388.56 |     163.96 |     110.44 |     261.72 |     0.10\n",
            "|  IRAO  |      89.21 |       4.07 |       3.55 |      77.82 |     0.02\n",
            "|  LKOH  |     773.00 |    6911.50 |    6573.00 |     735.14 |     0.19\n",
            "|  MGNT  |     109.19 |    7239.00 |    4500.00 |      67.87 |     0.03\n",
            "|  NLMK  |      92.08 |     182.90 |     129.32 |      65.10 |     0.02\n",
            "|  NVTK  |     189.25 |    1484.00 |    1169.00 |     149.08 |     0.05\n",
            "|  PLZL  |     130.22 |   10875.00 |    1735.60 |      20.78 |     0.03\n",
            "|  ROSN  |     139.97 |     600.30 |     445.45 |     103.86 |     0.03\n",
            "|  RUAL  |      95.42 |      34.89 |      34.45 |      94.23 |     0.02\n",
            "|  SBER  |     701.92 |     276.00 |     286.90 |     729.64 |     0.17\n",
            "|  SNGS  |     171.63 |      28.21 |      23.37 |     142.16 |     0.04\n",
            "|  TATN  |     321.66 |     688.20 |     617.30 |     288.52 |     0.08\n",
            "|  YDEX  |      83.50 |    2611.00 |    4122.00 |     131.83 |     0.02\n",
            "=====================================================================================\n",
            "\n",
            "Общая базовая капитализация: 4,039.93\n"
          ]
        },
        {
          "output_type": "error",
          "ename": "NameError",
          "evalue": "name 'total_current' is not defined",
          "traceback": [
            "\u001b[0;31m---------------------------------------------------------------------------\u001b[0m",
            "\u001b[0;31mNameError\u001b[0m                                 Traceback (most recent call last)",
            "\u001b[0;32m<ipython-input-73-42c1ae1aaaef>\u001b[0m in \u001b[0;36m<cell line: 0>\u001b[0;34m()\u001b[0m\n\u001b[1;32m     90\u001b[0m     \u001b[0;32mimport\u001b[0m \u001b[0mnest_asyncio\u001b[0m\u001b[0;34m\u001b[0m\u001b[0;34m\u001b[0m\u001b[0m\n\u001b[1;32m     91\u001b[0m     \u001b[0mnest_asyncio\u001b[0m\u001b[0;34m.\u001b[0m\u001b[0mapply\u001b[0m\u001b[0;34m(\u001b[0m\u001b[0;34m)\u001b[0m\u001b[0;34m\u001b[0m\u001b[0;34m\u001b[0m\u001b[0m\n\u001b[0;32m---> 92\u001b[0;31m     \u001b[0masyncio\u001b[0m\u001b[0;34m.\u001b[0m\u001b[0mrun\u001b[0m\u001b[0;34m(\u001b[0m\u001b[0mmain\u001b[0m\u001b[0;34m(\u001b[0m\u001b[0;34m)\u001b[0m\u001b[0;34m)\u001b[0m\u001b[0;34m\u001b[0m\u001b[0;34m\u001b[0m\u001b[0m\n\u001b[0m",
            "\u001b[0;32m/usr/local/lib/python3.11/dist-packages/nest_asyncio.py\u001b[0m in \u001b[0;36mrun\u001b[0;34m(main, debug)\u001b[0m\n\u001b[1;32m     28\u001b[0m         \u001b[0mtask\u001b[0m \u001b[0;34m=\u001b[0m \u001b[0masyncio\u001b[0m\u001b[0;34m.\u001b[0m\u001b[0mensure_future\u001b[0m\u001b[0;34m(\u001b[0m\u001b[0mmain\u001b[0m\u001b[0;34m)\u001b[0m\u001b[0;34m\u001b[0m\u001b[0;34m\u001b[0m\u001b[0m\n\u001b[1;32m     29\u001b[0m         \u001b[0;32mtry\u001b[0m\u001b[0;34m:\u001b[0m\u001b[0;34m\u001b[0m\u001b[0;34m\u001b[0m\u001b[0m\n\u001b[0;32m---> 30\u001b[0;31m             \u001b[0;32mreturn\u001b[0m \u001b[0mloop\u001b[0m\u001b[0;34m.\u001b[0m\u001b[0mrun_until_complete\u001b[0m\u001b[0;34m(\u001b[0m\u001b[0mtask\u001b[0m\u001b[0;34m)\u001b[0m\u001b[0;34m\u001b[0m\u001b[0;34m\u001b[0m\u001b[0m\n\u001b[0m\u001b[1;32m     31\u001b[0m         \u001b[0;32mfinally\u001b[0m\u001b[0;34m:\u001b[0m\u001b[0;34m\u001b[0m\u001b[0;34m\u001b[0m\u001b[0m\n\u001b[1;32m     32\u001b[0m             \u001b[0;32mif\u001b[0m \u001b[0;32mnot\u001b[0m \u001b[0mtask\u001b[0m\u001b[0;34m.\u001b[0m\u001b[0mdone\u001b[0m\u001b[0;34m(\u001b[0m\u001b[0;34m)\u001b[0m\u001b[0;34m:\u001b[0m\u001b[0;34m\u001b[0m\u001b[0;34m\u001b[0m\u001b[0m\n",
            "\u001b[0;32m/usr/local/lib/python3.11/dist-packages/nest_asyncio.py\u001b[0m in \u001b[0;36mrun_until_complete\u001b[0;34m(self, future)\u001b[0m\n\u001b[1;32m     96\u001b[0m                 raise RuntimeError(\n\u001b[1;32m     97\u001b[0m                     'Event loop stopped before Future completed.')\n\u001b[0;32m---> 98\u001b[0;31m             \u001b[0;32mreturn\u001b[0m \u001b[0mf\u001b[0m\u001b[0;34m.\u001b[0m\u001b[0mresult\u001b[0m\u001b[0;34m(\u001b[0m\u001b[0;34m)\u001b[0m\u001b[0;34m\u001b[0m\u001b[0;34m\u001b[0m\u001b[0m\n\u001b[0m\u001b[1;32m     99\u001b[0m \u001b[0;34m\u001b[0m\u001b[0m\n\u001b[1;32m    100\u001b[0m     \u001b[0;32mdef\u001b[0m \u001b[0m_run_once\u001b[0m\u001b[0;34m(\u001b[0m\u001b[0mself\u001b[0m\u001b[0;34m)\u001b[0m\u001b[0;34m:\u001b[0m\u001b[0;34m\u001b[0m\u001b[0;34m\u001b[0m\u001b[0m\n",
            "\u001b[0;32m/usr/lib/python3.11/asyncio/futures.py\u001b[0m in \u001b[0;36mresult\u001b[0;34m(self)\u001b[0m\n\u001b[1;32m    201\u001b[0m         \u001b[0mself\u001b[0m\u001b[0;34m.\u001b[0m\u001b[0m__log_traceback\u001b[0m \u001b[0;34m=\u001b[0m \u001b[0;32mFalse\u001b[0m\u001b[0;34m\u001b[0m\u001b[0;34m\u001b[0m\u001b[0m\n\u001b[1;32m    202\u001b[0m         \u001b[0;32mif\u001b[0m \u001b[0mself\u001b[0m\u001b[0;34m.\u001b[0m\u001b[0m_exception\u001b[0m \u001b[0;32mis\u001b[0m \u001b[0;32mnot\u001b[0m \u001b[0;32mNone\u001b[0m\u001b[0;34m:\u001b[0m\u001b[0;34m\u001b[0m\u001b[0;34m\u001b[0m\u001b[0m\n\u001b[0;32m--> 203\u001b[0;31m             \u001b[0;32mraise\u001b[0m \u001b[0mself\u001b[0m\u001b[0;34m.\u001b[0m\u001b[0m_exception\u001b[0m\u001b[0;34m.\u001b[0m\u001b[0mwith_traceback\u001b[0m\u001b[0;34m(\u001b[0m\u001b[0mself\u001b[0m\u001b[0;34m.\u001b[0m\u001b[0m_exception_tb\u001b[0m\u001b[0;34m)\u001b[0m\u001b[0;34m\u001b[0m\u001b[0;34m\u001b[0m\u001b[0m\n\u001b[0m\u001b[1;32m    204\u001b[0m         \u001b[0;32mreturn\u001b[0m \u001b[0mself\u001b[0m\u001b[0;34m.\u001b[0m\u001b[0m_result\u001b[0m\u001b[0;34m\u001b[0m\u001b[0;34m\u001b[0m\u001b[0m\n\u001b[1;32m    205\u001b[0m \u001b[0;34m\u001b[0m\u001b[0m\n",
            "\u001b[0;32m/usr/lib/python3.11/asyncio/tasks.py\u001b[0m in \u001b[0;36m__step\u001b[0;34m(***failed resolving arguments***)\u001b[0m\n\u001b[1;32m    275\u001b[0m                 \u001b[0;31m# We use the `send` method directly, because coroutines\u001b[0m\u001b[0;34m\u001b[0m\u001b[0;34m\u001b[0m\u001b[0m\n\u001b[1;32m    276\u001b[0m                 \u001b[0;31m# don't have `__iter__` and `__next__` methods.\u001b[0m\u001b[0;34m\u001b[0m\u001b[0;34m\u001b[0m\u001b[0m\n\u001b[0;32m--> 277\u001b[0;31m                 \u001b[0mresult\u001b[0m \u001b[0;34m=\u001b[0m \u001b[0mcoro\u001b[0m\u001b[0;34m.\u001b[0m\u001b[0msend\u001b[0m\u001b[0;34m(\u001b[0m\u001b[0;32mNone\u001b[0m\u001b[0;34m)\u001b[0m\u001b[0;34m\u001b[0m\u001b[0;34m\u001b[0m\u001b[0m\n\u001b[0m\u001b[1;32m    278\u001b[0m             \u001b[0;32melse\u001b[0m\u001b[0;34m:\u001b[0m\u001b[0;34m\u001b[0m\u001b[0;34m\u001b[0m\u001b[0m\n\u001b[1;32m    279\u001b[0m                 \u001b[0mresult\u001b[0m \u001b[0;34m=\u001b[0m \u001b[0mcoro\u001b[0m\u001b[0;34m.\u001b[0m\u001b[0mthrow\u001b[0m\u001b[0;34m(\u001b[0m\u001b[0mexc\u001b[0m\u001b[0;34m)\u001b[0m\u001b[0;34m\u001b[0m\u001b[0;34m\u001b[0m\u001b[0m\n",
            "\u001b[0;32m<ipython-input-73-42c1ae1aaaef>\u001b[0m in \u001b[0;36mmain\u001b[0;34m()\u001b[0m\n\u001b[1;32m     81\u001b[0m \u001b[0;34m\u001b[0m\u001b[0m\n\u001b[1;32m     82\u001b[0m     \u001b[0mstart_time\u001b[0m \u001b[0;34m=\u001b[0m \u001b[0mdatetime\u001b[0m\u001b[0;34m.\u001b[0m\u001b[0mnow\u001b[0m\u001b[0;34m(\u001b[0m\u001b[0;34m)\u001b[0m\u001b[0;34m\u001b[0m\u001b[0;34m\u001b[0m\u001b[0m\n\u001b[0;32m---> 83\u001b[0;31m     \u001b[0mindex\u001b[0m \u001b[0;34m=\u001b[0m \u001b[0;32mawait\u001b[0m \u001b[0mget_moexbc\u001b[0m\u001b[0;34m(\u001b[0m\u001b[0mtickers_data\u001b[0m\u001b[0;34m)\u001b[0m\u001b[0;34m\u001b[0m\u001b[0;34m\u001b[0m\u001b[0m\n\u001b[0m\u001b[1;32m     84\u001b[0m     \u001b[0mduration\u001b[0m \u001b[0;34m=\u001b[0m \u001b[0;34m(\u001b[0m\u001b[0mdatetime\u001b[0m\u001b[0;34m.\u001b[0m\u001b[0mnow\u001b[0m\u001b[0;34m(\u001b[0m\u001b[0;34m)\u001b[0m \u001b[0;34m-\u001b[0m \u001b[0mstart_time\u001b[0m\u001b[0;34m)\u001b[0m\u001b[0;34m.\u001b[0m\u001b[0mtotal_seconds\u001b[0m\u001b[0;34m(\u001b[0m\u001b[0;34m)\u001b[0m\u001b[0;34m\u001b[0m\u001b[0;34m\u001b[0m\u001b[0m\n\u001b[1;32m     85\u001b[0m \u001b[0;34m\u001b[0m\u001b[0m\n",
            "\u001b[0;32m<ipython-input-73-42c1ae1aaaef>\u001b[0m in \u001b[0;36mget_moexbc\u001b[0;34m(tickers_data)\u001b[0m\n\u001b[1;32m     51\u001b[0m     \u001b[0mprint\u001b[0m\u001b[0;34m(\u001b[0m\u001b[0;34m\"=\"\u001b[0m\u001b[0;34m*\u001b[0m\u001b[0;36m85\u001b[0m \u001b[0;34m+\u001b[0m \u001b[0;34m\"\\n\"\u001b[0m\u001b[0;34m)\u001b[0m\u001b[0;34m\u001b[0m\u001b[0;34m\u001b[0m\u001b[0m\n\u001b[1;32m     52\u001b[0m     \u001b[0mprint\u001b[0m\u001b[0;34m(\u001b[0m\u001b[0;34mf\"Общая базовая капитализация: {total_base:,.2f}\"\u001b[0m\u001b[0;34m)\u001b[0m\u001b[0;34m\u001b[0m\u001b[0;34m\u001b[0m\u001b[0m\n\u001b[0;32m---> 53\u001b[0;31m     \u001b[0mprint\u001b[0m\u001b[0;34m(\u001b[0m\u001b[0;34mf\"Общая текущая капитализация: {total_current:,.2f}\"\u001b[0m\u001b[0;34m)\u001b[0m\u001b[0;34m\u001b[0m\u001b[0;34m\u001b[0m\u001b[0m\n\u001b[0m\u001b[1;32m     54\u001b[0m     \u001b[0mprint\u001b[0m\u001b[0;34m(\u001b[0m\u001b[0;34mf\"Делитель индекса: {base_idx / total_base:.6f}\"\u001b[0m\u001b[0;34m)\u001b[0m\u001b[0;34m\u001b[0m\u001b[0;34m\u001b[0m\u001b[0m\n\u001b[1;32m     55\u001b[0m     \u001b[0mprint\u001b[0m\u001b[0;34m(\u001b[0m\u001b[0;34m\"\\n\"\u001b[0m \u001b[0;34m+\u001b[0m \u001b[0;34m\"=\"\u001b[0m\u001b[0;34m*\u001b[0m\u001b[0;36m85\u001b[0m\u001b[0;34m)\u001b[0m\u001b[0;34m\u001b[0m\u001b[0;34m\u001b[0m\u001b[0m\n",
            "\u001b[0;31mNameError\u001b[0m: name 'total_current' is not defined"
          ]
        }
      ]
    }
  ]
}