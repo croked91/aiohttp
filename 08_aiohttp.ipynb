{
  "nbformat": 4,
  "nbformat_minor": 0,
  "metadata": {
    "colab": {
      "provenance": []
    },
    "kernelspec": {
      "name": "python3",
      "display_name": "Python 3"
    },
    "language_info": {
      "name": "python"
    }
  },
  "cells": [
    {
      "cell_type": "code",
      "execution_count": 1,
      "metadata": {
        "colab": {
          "base_uri": "https://localhost:8080/"
        },
        "id": "VVX6SsKhJOL3",
        "outputId": "d28cad22-1e19-4d9b-f584-91c22033dae1"
      },
      "outputs": [
        {
          "output_type": "stream",
          "name": "stdout",
          "text": [
            "Requirement already satisfied: aiohttp in /usr/local/lib/python3.11/dist-packages (3.11.15)\n",
            "Requirement already satisfied: aiohappyeyeballs>=2.3.0 in /usr/local/lib/python3.11/dist-packages (from aiohttp) (2.6.1)\n",
            "Requirement already satisfied: aiosignal>=1.1.2 in /usr/local/lib/python3.11/dist-packages (from aiohttp) (1.3.2)\n",
            "Requirement already satisfied: attrs>=17.3.0 in /usr/local/lib/python3.11/dist-packages (from aiohttp) (25.3.0)\n",
            "Requirement already satisfied: frozenlist>=1.1.1 in /usr/local/lib/python3.11/dist-packages (from aiohttp) (1.5.0)\n",
            "Requirement already satisfied: multidict<7.0,>=4.5 in /usr/local/lib/python3.11/dist-packages (from aiohttp) (6.3.1)\n",
            "Requirement already satisfied: propcache>=0.2.0 in /usr/local/lib/python3.11/dist-packages (from aiohttp) (0.3.1)\n",
            "Requirement already satisfied: yarl<2.0,>=1.17.0 in /usr/local/lib/python3.11/dist-packages (from aiohttp) (1.18.3)\n",
            "Requirement already satisfied: idna>=2.0 in /usr/local/lib/python3.11/dist-packages (from yarl<2.0,>=1.17.0->aiohttp) (3.10)\n"
          ]
        }
      ],
      "source": [
        "%pip install aiohttp"
      ]
    },
    {
      "cell_type": "code",
      "source": [
        "import aiohttp\n",
        "import asyncio\n",
        "import xml.etree.ElementTree as ET\n",
        "from datetime import datetime\n",
        "\n",
        "async def fetch_quote(session, ticker):\n",
        "    url = f'https://iss.moex.com/iss/engines/stock/markets/shares/boards/TQBR/securities/{ticker}.xml'\n",
        "    async with session.get(url) as response:\n",
        "        xml_data = await response.text()\n",
        "        root = ET.fromstring(xml_data)\n",
        "        for row in root.findall(\".//row\"):\n",
        "            if 'LAST' in row.attrib:\n",
        "                return float(row.attrib['LAST'])\n",
        "        return None\n",
        "\n",
        "\n",
        "async def get_moexbc(tickers_data):\n",
        "    print(\"Начинаем расчет индекса MOEXBC\")\n",
        "    print(f\"Количество компаний: {len(tickers_data)}\")\n",
        "    print(\"\\n\" + \"=\"*85)\n",
        "    print(\"| {:^6} | {:^10} | {:^10} | {:^10} | {:^10} | {:^10} |\".format(\n",
        "        \"Тикер\", \"База кап\", \"База цена\", \"Тек. цена\", \"Тек. кап\", \"Вес\"))\n",
        "    print(\"=\"*85)\n",
        "\n",
        "    async with aiohttp.ClientSession() as session:\n",
        "        tasks = [fetch_quote(session, ticker) for ticker in tickers_data]\n",
        "        prices = await asyncio.gather(*tasks)\n",
        "\n",
        "        for ticker, price in zip(tickers_data, prices):\n",
        "            data = tickers_data[ticker]\n",
        "            data['last_price'] = price if price else 0.0\n",
        "            data['current_cap'] = data['base_cap'] * data['last_price']\n",
        "            data['change'] = ((data['last_price'] - data['base_price']) / data['base_price']) * 100\n",
        "\n",
        "            print(\"| {:^6} | {:>10.2f} | {:>10.2f} | {:>10.2f} | {:>10.2f} | {:>8.2%} |\".format(\n",
        "                ticker,\n",
        "                data['base_cap'],\n",
        "                data['base_price'],\n",
        "                data['last_price'],\n",
        "                data['current_cap'],\n",
        "                data['base_cap'] / sum(t['base_cap'] for t in tickers_data.values()))\n",
        "            )\n",
        "\n",
        "    total_base = sum(data['base_cap'] for data in tickers_data.values())\n",
        "    total_current = sum(data['current_cap'] for data in tickers_data.values())\n",
        "    base_idx = 20038.52\n",
        "    index = (total_current / total_base) * base_idx\n",
        "\n",
        "    print(\"=\"*85 + \"\\n\")\n",
        "    print(f\"Общая базовая капитализация: {total_base:,.2f}\")\n",
        "    print(f\"Общая текущая капитализация: {total_current:,.2f}\")\n",
        "    print(f\"Делитель индекса: {base_idx / total_base:.6f}\")\n",
        "    print(\"\\n\" + \"=\"*85)\n",
        "    print(f\"ИТОГОВЫЙ ИНДЕКС MOEXBC: {index:,.2f}\")\n",
        "\n",
        "    return index\n",
        "\n",
        "async def main():\n",
        "    tickers_data = {\n",
        "        'CHMF': {'base_cap': 110.595, 'base_price': 1435.00},\n",
        "        'GAZP': {'base_cap': 643.752, 'base_price': 162.25},\n",
        "        'GMKN': {'base_cap': 388.556, 'base_price': 16396.00},\n",
        "        'IRAO': {'base_cap': 89.209, 'base_price': 4.069},\n",
        "        'LKOH': {'base_cap': 772.998, 'base_price': 6911.50},\n",
        "        'MGNT': {'base_cap': 109.185, 'base_price': 7239.00},\n",
        "        'NLMK': {'base_cap': 92.078, 'base_price': 182.90},\n",
        "        'NVTK': {'base_cap': 189.247, 'base_price': 1484.00},\n",
        "        'PLZL': {'base_cap': 130.218, 'base_price': 10875.00},\n",
        "        'ROSN': {'base_cap': 139.966, 'base_price': 600.30},\n",
        "        'RUAL': {'base_cap': 95.415, 'base_price': 34.89},\n",
        "        'SBER': {'base_cap': 701.917, 'base_price': 276.00},\n",
        "        'SNGS': {'base_cap': 171.632, 'base_price': 28.215},\n",
        "        'TATN': {'base_cap': 321.656, 'base_price': 688.20},\n",
        "        'YDEX': {'base_cap': 83.504, 'base_price': 2611.00}\n",
        "    }\n",
        "\n",
        "    print(\"\\nЗапуск расчета индекса MOEXBC\")\n",
        "    print(\"=\"*85)\n",
        "\n",
        "    start_time = datetime.now()\n",
        "    index = await get_moexbc(tickers_data)\n",
        "    duration = (datetime.now() - start_time).total_seconds()\n",
        "\n",
        "    print(f\"\\nВремя выполнения: {duration:.2f} секунд\")\n",
        "    print(\"=\"*85)\n",
        "\n",
        "if __name__ == \"__main__\":\n",
        "    import nest_asyncio\n",
        "    nest_asyncio.apply()\n",
        "    asyncio.run(main())"
      ],
      "metadata": {
        "id": "9zg-uuFvJ8cQ",
        "outputId": "26caf235-324a-4b2d-a370-20a1e98b393d",
        "colab": {
          "base_uri": "https://localhost:8080/"
        }
      },
      "execution_count": 53,
      "outputs": [
        {
          "output_type": "stream",
          "name": "stdout",
          "text": [
            "\n",
            "Запуск расчета индекса MOEXBC\n",
            "=====================================================================================\n",
            "Начинаем расчет индекса MOEXBC\n",
            "Количество компаний: 15\n",
            "\n",
            "=====================================================================================\n",
            "| Тикер  |  База кап  | База цена  | Тек. цена  |  Тек. кап  |    Вес     |\n",
            "======================================================================\n",
            "|  CHMF  |     110.59 |    1435.00 |    1092.40 |  120813.98 |    2.74% |\n",
            "|  GAZP  |     643.75 |     162.25 |     127.29 |   81943.19 |   15.93% |\n",
            "|  GMKN  |     388.56 |   16396.00 |     110.78 |   43044.23 |    9.62% |\n",
            "|  IRAO  |      89.21 |       4.07 |       3.55 |     316.69 |    2.21% |\n",
            "|  LKOH  |     773.00 |    6911.50 |    6548.00 | 5061590.90 |   19.13% |\n",
            "|  MGNT  |     109.19 |    7239.00 |    4510.00 |  492424.35 |    2.70% |\n",
            "|  NLMK  |      92.08 |     182.90 |     129.40 |   11914.89 |    2.28% |\n",
            "|  NVTK  |     189.25 |    1484.00 |    1167.60 |  220964.80 |    4.68% |\n",
            "|  PLZL  |     130.22 |   10875.00 |    1741.80 |  226813.71 |    3.22% |\n",
            "|  ROSN  |     139.97 |     600.30 |     444.25 |   62179.90 |    3.46% |\n",
            "|  RUAL  |      95.42 |      34.89 |      34.44 |    3285.62 |    2.36% |\n",
            "|  SBER  |     701.92 |     276.00 |     286.45 |  201064.12 |   17.37% |\n",
            "|  SNGS  |     171.63 |      28.21 |      23.37 |    4011.04 |    4.25% |\n",
            "|  TATN  |     321.66 |     688.20 |     612.80 |  197110.80 |    7.96% |\n",
            "|  YDEX  |      83.50 |    2611.00 |    4123.50 |  344328.74 |    2.07% |\n",
            "=====================================================================================\n",
            "\n",
            "Общая базовая капитализация: 4,039.93\n",
            "Общая текущая капитализация: 7,071,806.97\n",
            "Делитель индекса: 4.960118\n",
            "\n",
            "======================================================================\n",
            "ИТОГОВЫЙ ИНДЕКС MOEXBC: 35,076,997.75\n",
            "\n",
            "Время выполнения: 1.92 секунд\n",
            "=====================================================================================\n"
          ]
        }
      ]
    }
  ]
}