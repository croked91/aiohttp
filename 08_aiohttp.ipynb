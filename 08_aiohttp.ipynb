{
  "nbformat": 4,
  "nbformat_minor": 0,
  "metadata": {
    "colab": {
      "provenance": []
    },
    "kernelspec": {
      "name": "python3",
      "display_name": "Python 3"
    },
    "language_info": {
      "name": "python"
    }
  },
  "cells": [
    {
      "cell_type": "code",
      "execution_count": null,
      "metadata": {
        "colab": {
          "base_uri": "https://localhost:8080/"
        },
        "id": "VVX6SsKhJOL3",
        "outputId": "895dbb31-762f-40f7-c58e-1e40bb915f06"
      },
      "outputs": [
        {
          "output_type": "stream",
          "name": "stdout",
          "text": [
            "Requirement already satisfied: aiohttp in /usr/local/lib/python3.11/dist-packages (3.11.15)\n",
            "Requirement already satisfied: aiohappyeyeballs>=2.3.0 in /usr/local/lib/python3.11/dist-packages (from aiohttp) (2.6.1)\n",
            "Requirement already satisfied: aiosignal>=1.1.2 in /usr/local/lib/python3.11/dist-packages (from aiohttp) (1.3.2)\n",
            "Requirement already satisfied: attrs>=17.3.0 in /usr/local/lib/python3.11/dist-packages (from aiohttp) (25.3.0)\n",
            "Requirement already satisfied: frozenlist>=1.1.1 in /usr/local/lib/python3.11/dist-packages (from aiohttp) (1.5.0)\n",
            "Requirement already satisfied: multidict<7.0,>=4.5 in /usr/local/lib/python3.11/dist-packages (from aiohttp) (6.3.1)\n",
            "Requirement already satisfied: propcache>=0.2.0 in /usr/local/lib/python3.11/dist-packages (from aiohttp) (0.3.1)\n",
            "Requirement already satisfied: yarl<2.0,>=1.17.0 in /usr/local/lib/python3.11/dist-packages (from aiohttp) (1.18.3)\n",
            "Requirement already satisfied: idna>=2.0 in /usr/local/lib/python3.11/dist-packages (from yarl<2.0,>=1.17.0->aiohttp) (3.10)\n"
          ]
        }
      ],
      "source": [
        "%pip install aiohttp"
      ]
    },
    {
      "cell_type": "code",
      "source": [
        "! wget https://raw.githubusercontent.com/kotartemiy/topic-labeled-news-dataset/master/labeled_newscatcher_dataset.csv"
      ],
      "metadata": {
        "colab": {
          "base_uri": "https://localhost:8080/"
        },
        "id": "-9a1boKPJcBW",
        "outputId": "134136f7-fb27-42f5-822d-012d1e757b85"
      },
      "execution_count": null,
      "outputs": [
        {
          "output_type": "stream",
          "name": "stdout",
          "text": [
            "--2025-04-05 11:53:32--  https://raw.githubusercontent.com/kotartemiy/topic-labeled-news-dataset/master/labeled_newscatcher_dataset.csv\n",
            "Resolving raw.githubusercontent.com (raw.githubusercontent.com)... 185.199.108.133, 185.199.109.133, 185.199.110.133, ...\n",
            "Connecting to raw.githubusercontent.com (raw.githubusercontent.com)|185.199.108.133|:443... connected.\n",
            "HTTP request sent, awaiting response... 200 OK\n",
            "Length: 24692734 (24M) [text/plain]\n",
            "Saving to: ‘labeled_newscatcher_dataset.csv’\n",
            "\n",
            "labeled_newscatcher 100%[===================>]  23.55M   128MB/s    in 0.2s    \n",
            "\n",
            "2025-04-05 11:53:33 (128 MB/s) - ‘labeled_newscatcher_dataset.csv’ saved [24692734/24692734]\n",
            "\n"
          ]
        }
      ]
    },
    {
      "cell_type": "code",
      "source": [
        "def download_link(args):\n",
        "    index, row = args\n",
        "    response = requests.get(row['link'])\n",
        "    output_file = f'links_sequential/{index}.html'\n",
        "\n",
        "    with open(output_file, 'w') as fp:\n",
        "        fp.write(response.text)"
      ],
      "metadata": {
        "id": "H6TX3aacJmhG"
      },
      "execution_count": null,
      "outputs": []
    },
    {
      "cell_type": "code",
      "source": [
        "import pandas as pd\n",
        "\n",
        "df = pd.read_csv('labeled_newscatcher_dataset.csv', sep=';')"
      ],
      "metadata": {
        "id": "9bQKRjssJ6n6"
      },
      "execution_count": null,
      "outputs": []
    },
    {
      "cell_type": "code",
      "source": [
        "df.link"
      ],
      "metadata": {
        "colab": {
          "base_uri": "https://localhost:8080/"
        },
        "id": "jDq2tj4UJ7EM",
        "outputId": "e354d953-c6b7-4d95-f3db-2aac6d297481"
      },
      "execution_count": null,
      "outputs": [
        {
          "output_type": "execute_result",
          "data": {
            "text/plain": [
              "0         https://www.eurekalert.org/pub_releases/2020-0...\n",
              "1         https://www.pulse.ng/news/world/an-irresistibl...\n",
              "2         https://www.express.co.uk/news/science/1322607...\n",
              "3         https://www.ndtv.com/world-news/glaciers-could...\n",
              "4         https://www.thesun.ie/tech/5742187/perseid-met...\n",
              "                                ...                        \n",
              "108769    https://www.vanguardngr.com/2020/08/pdp-govern...\n",
              "108770    https://www.patentlyapple.com/patently-apple/2...\n",
              "108771    https://www.belfastlive.co.uk/news/health/coro...\n",
              "108772    https://www.thenews.com.pk/latest/696364-paul-...\n",
              "108773    https://www.balls.ie/football/shane-duffy-brig...\n",
              "Name: link, Length: 108774, dtype: object"
            ]
          },
          "metadata": {},
          "execution_count": 4
        }
      ]
    },
    {
      "cell_type": "code",
      "source": [
        "%pip install aiofiles"
      ],
      "metadata": {
        "colab": {
          "base_uri": "https://localhost:8080/"
        },
        "id": "IZYU39lsLgXp",
        "outputId": "dfb184b9-c300-411e-a9e7-c76178275d32"
      },
      "execution_count": null,
      "outputs": [
        {
          "output_type": "stream",
          "name": "stdout",
          "text": [
            "Collecting aiofiles\n",
            "  Downloading aiofiles-23.2.1-py3-none-any.whl (15 kB)\n",
            "Installing collected packages: aiofiles\n",
            "Successfully installed aiofiles-23.2.1\n"
          ]
        }
      ]
    },
    {
      "cell_type": "code",
      "source": [
        "import aiohttp\n",
        "import asyncio\n",
        "import aiofiles\n",
        "from tqdm import tqdm"
      ],
      "metadata": {
        "id": "gpMAsxU_KEKC"
      },
      "execution_count": null,
      "outputs": []
    },
    {
      "cell_type": "code",
      "source": [
        "async def download_links(session, link, i):\n",
        "    async with session.get(link) as response:\n",
        "        output_file = f'links_sequential/{i}.html'\n",
        "        text = await response.text()\n",
        "        async with aiofiles.open(output_file, 'w') as fp:\n",
        "            await fp.write(text)\n",
        "\n",
        "\n",
        "async def main():\n",
        "    async with aiohttp.ClientSession() as session:\n",
        "        tasks = []\n",
        "        link = 'https://iss.moex.com/iss/engines/stock/markets/shares/securities/SBERP.xml'\n",
        "        for i in tqdm(range(100)):\n",
        "            tasks.append(asyncio.ensure_future(download_links(session, link, i)))\n",
        "\n",
        "        results = await asyncio.gather(*tasks)\n"
      ],
      "metadata": {
        "id": "9zg-uuFvJ8cQ"
      },
      "execution_count": null,
      "outputs": []
    },
    {
      "cell_type": "code",
      "source": [
        "!rm -r links_sequential\n",
        "!mkdir links_sequential"
      ],
      "metadata": {
        "id": "OUtoB2yNK8ub"
      },
      "execution_count": null,
      "outputs": []
    },
    {
      "cell_type": "code",
      "source": [
        "await main()"
      ],
      "metadata": {
        "colab": {
          "base_uri": "https://localhost:8080/"
        },
        "id": "9Mhl8A0GK-r8",
        "outputId": "ccf68d4f-6abf-411d-b23b-441e5886a4ba"
      },
      "execution_count": null,
      "outputs": [
        {
          "output_type": "stream",
          "name": "stderr",
          "text": [
            "100%|██████████| 100/100 [00:00<00:00, 84239.89it/s]\n"
          ]
        }
      ]
    },
    {
      "cell_type": "code",
      "source": [],
      "metadata": {
        "id": "VCFgXQ1pK__A"
      },
      "execution_count": null,
      "outputs": []
    }
  ]
}