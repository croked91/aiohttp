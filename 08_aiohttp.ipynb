{
  "nbformat": 4,
  "nbformat_minor": 0,
  "metadata": {
    "colab": {
      "provenance": []
    },
    "kernelspec": {
      "name": "python3",
      "display_name": "Python 3"
    },
    "language_info": {
      "name": "python"
    }
  },
  "cells": [
    {
      "cell_type": "code",
      "execution_count": 1,
      "metadata": {
        "colab": {
          "base_uri": "https://localhost:8080/"
        },
        "id": "VVX6SsKhJOL3",
        "outputId": "d28cad22-1e19-4d9b-f584-91c22033dae1"
      },
      "outputs": [
        {
          "output_type": "stream",
          "name": "stdout",
          "text": [
            "Requirement already satisfied: aiohttp in /usr/local/lib/python3.11/dist-packages (3.11.15)\n",
            "Requirement already satisfied: aiohappyeyeballs>=2.3.0 in /usr/local/lib/python3.11/dist-packages (from aiohttp) (2.6.1)\n",
            "Requirement already satisfied: aiosignal>=1.1.2 in /usr/local/lib/python3.11/dist-packages (from aiohttp) (1.3.2)\n",
            "Requirement already satisfied: attrs>=17.3.0 in /usr/local/lib/python3.11/dist-packages (from aiohttp) (25.3.0)\n",
            "Requirement already satisfied: frozenlist>=1.1.1 in /usr/local/lib/python3.11/dist-packages (from aiohttp) (1.5.0)\n",
            "Requirement already satisfied: multidict<7.0,>=4.5 in /usr/local/lib/python3.11/dist-packages (from aiohttp) (6.3.1)\n",
            "Requirement already satisfied: propcache>=0.2.0 in /usr/local/lib/python3.11/dist-packages (from aiohttp) (0.3.1)\n",
            "Requirement already satisfied: yarl<2.0,>=1.17.0 in /usr/local/lib/python3.11/dist-packages (from aiohttp) (1.18.3)\n",
            "Requirement already satisfied: idna>=2.0 in /usr/local/lib/python3.11/dist-packages (from yarl<2.0,>=1.17.0->aiohttp) (3.10)\n"
          ]
        }
      ],
      "source": [
        "%pip install aiohttp"
      ]
    },
    {
      "cell_type": "code",
      "source": [
        "import aiohttp\n",
        "import asyncio\n",
        "import xml.etree.ElementTree as ET\n",
        "from datetime import datetime\n",
        "\n",
        "async def fetch_quote(session, ticker):\n",
        "    url = f'https://iss.moex.com/iss/engines/stock/markets/shares/boards/TQBR/securities/{ticker}.xml'\n",
        "    async with session.get(url) as response:\n",
        "        xml_data = await response.text()\n",
        "        root = ET.fromstring(xml_data)\n",
        "        for row in root.findall(\".//row\"):\n",
        "            if 'LAST' in row.attrib:\n",
        "                return float(row.attrib['LAST'])\n",
        "        return None\n",
        "\n",
        "\n",
        "async def get_moexbc(tickers_data):\n",
        "    print(\"Начинаем расчет индекса MOEXBC\")\n",
        "    print(f\"Количество компаний: {len(tickers_data)}\")\n",
        "    print(\"\\n\" + \"=\"*140)\n",
        "    print(\"| {:^6} | {:^10} | {:^10} | {:^10} | {:^10} | {:^10} | {:^10} | {:^10} | {:^10} | {:^10} | {:^10} |\".format(\n",
        "        \"Тикер\", \"База кап\", \"База цена\", \"Вес\", \"Общ. кап\", \"Б инд\", \"Дел\", \"Тек. цена\", \"Тек. кап\", \"Н кап\", \"Индекс\"))\n",
        "    print(\"=\"*140)\n",
        "\n",
        "\n",
        "    total_base = sum(data['base_cap'] for data in tickers_data.values())\n",
        "    base_idx = 20038.52\n",
        "    divider = base_idx / total_base\n",
        "\n",
        "    async with aiohttp.ClientSession() as session:\n",
        "        tasks = [fetch_quote(session, ticker) for ticker in tickers_data]\n",
        "        prices = await asyncio.gather(*tasks)\n",
        "        current_caps = []\n",
        "        for ticker, price in zip(tickers_data, prices):\n",
        "            data = tickers_data[ticker]\n",
        "            data['last_price'] = price if price else 0.0\n",
        "            data['current_cap'] = data['base_cap'] / data['base_price'] * data['last_price'] if data['base_price'] != 0 else 0\n",
        "            data['weight'] = data['base_cap'] / total_base\n",
        "            current_caps.append(data['current_cap'])\n",
        "\n",
        "        total_current = round(sum(current_caps), 2)\n",
        "\n",
        "        for i, (ticker, price) in enumerate(zip(tickers_data, prices)):\n",
        "            data = tickers_data[ticker]\n",
        "            total_base_display = round(total_base, 2) if i == 0 else \"\"\n",
        "            base_idx_display = base_idx if i == 0 else \"\"\n",
        "            total_current_display = total_current if i == 0 else \"\"\n",
        "            divider_display = round(divider,2) if i == 0 else \"\"\n",
        "            new_idx = (divider_display * total_current_display) if i == 0 else \"\"\n",
        "\n",
        "            print(\"| {:^6} | {:>10.2f} | {:>10.2f} | {:>10.4f} | {:>10} | {:>10} | {:>10} | {:>10.2f} | {:>10.2f} | {:>10} | {:>10} |\".format(\n",
        "                ticker,\n",
        "                round(data['base_cap'], 2),\n",
        "                round(data['base_price'], 2),\n",
        "                data['weight'],\n",
        "                total_base_display,\n",
        "                base_idx_display,\n",
        "                divider_display,\n",
        "                data['last_price'],\n",
        "                data['current_cap'],\n",
        "                total_current_display,\n",
        "                new_idx\n",
        "            ))\n",
        "\n",
        "    print(\"=\"*140)\n",
        "\n",
        "async def main():\n",
        "    tickers_data = {\n",
        "        'CHMF': {'base_cap': 110.595, 'base_price': 1435.00},\n",
        "        'GAZP': {'base_cap': 643.752, 'base_price': 162.25},\n",
        "        'GMKN': {'base_cap': 388.556, 'base_price': 163.96},\n",
        "        'IRAO': {'base_cap': 89.209, 'base_price': 4.069},\n",
        "        'LKOH': {'base_cap': 772.998, 'base_price': 6911.50},\n",
        "        'MGNT': {'base_cap': 109.185, 'base_price': 7239.00},\n",
        "        'NLMK': {'base_cap': 92.078, 'base_price': 182.90},\n",
        "        'NVTK': {'base_cap': 189.247, 'base_price': 1484.00},\n",
        "        'PLZL': {'base_cap': 130.218, 'base_price': 10875.00},\n",
        "        'ROSN': {'base_cap': 139.966, 'base_price': 600.30},\n",
        "        'RUAL': {'base_cap': 95.415, 'base_price': 34.89},\n",
        "        'SBER': {'base_cap': 701.917, 'base_price': 276.00},\n",
        "        'SNGS': {'base_cap': 171.632, 'base_price': 28.215},\n",
        "        'TATN': {'base_cap': 321.656, 'base_price': 688.20},\n",
        "        'YDEX': {'base_cap': 83.504, 'base_price': 2611.00}\n",
        "    }\n",
        "\n",
        "    print(\"\\nЗапуск расчета индекса MOEXBC\")\n",
        "    print(\"=\"*140)\n",
        "\n",
        "    start_time = datetime.now()\n",
        "    await get_moexbc(tickers_data)\n",
        "    duration = (datetime.now() - start_time).total_seconds()\n",
        "\n",
        "    print(f\"\\nВремя выполнения: {duration:.2f} секунд\")\n",
        "    print(\"=\"*140)\n",
        "\n",
        "if __name__ == \"__main__\":\n",
        "    import nest_asyncio\n",
        "    nest_asyncio.apply()\n",
        "    asyncio.run(main())"
      ],
      "metadata": {
        "id": "9zg-uuFvJ8cQ",
        "colab": {
          "base_uri": "https://localhost:8080/"
        },
        "outputId": "9412ee1c-3500-4a54-adfe-2218ceb49c66"
      },
      "execution_count": 55,
      "outputs": [
        {
          "output_type": "stream",
          "name": "stdout",
          "text": [
            "\n",
            "Запуск расчета индекса MOEXBC\n",
            "============================================================================================================================================\n",
            "Начинаем расчет индекса MOEXBC\n",
            "Количество компаний: 15\n",
            "\n",
            "============================================================================================================================================\n",
            "| Тикер  |  База кап  | База цена  |    Вес     |  Общ. кап  |   Б инд    |    Дел     | Тек. цена  |  Тек. кап  |   Н кап    |   Индекс   |\n",
            "============================================================================================================================================\n",
            "|  CHMF  |     110.59 |    1435.00 |     0.0274 |    4039.93 |   20038.52 |       4.96 |    1105.00 |      85.16 |    3486.16 | 17291.3536 |\n",
            "|  GAZP  |     643.75 |     162.25 |     0.1593 |            |            |            |     128.54 |     510.00 |            |            |\n",
            "|  GMKN  |     388.56 |     163.96 |     0.0962 |            |            |            |     111.94 |     265.28 |            |            |\n",
            "|  IRAO  |      89.21 |       4.07 |     0.0221 |            |            |            |       3.57 |      78.27 |            |            |\n",
            "|  LKOH  |     773.00 |    6911.50 |     0.1913 |            |            |            |    6587.50 |     736.76 |            |            |\n",
            "|  MGNT  |     109.19 |    7239.00 |     0.0270 |            |            |            |    4513.50 |      68.08 |            |            |\n",
            "|  NLMK  |      92.08 |     182.90 |     0.0228 |            |            |            |     130.56 |      65.73 |            |            |\n",
            "|  NVTK  |     189.25 |    1484.00 |     0.0468 |            |            |            |    1175.40 |     149.89 |            |            |\n",
            "|  PLZL  |     130.22 |   10875.00 |     0.0322 |            |            |            |    1743.00 |      20.87 |            |            |\n",
            "|  ROSN  |     139.97 |     600.30 |     0.0346 |            |            |            |     447.50 |     104.34 |            |            |\n",
            "|  RUAL  |      95.42 |      34.89 |     0.0236 |            |            |            |      34.80 |      95.18 |            |            |\n",
            "|  SBER  |     701.92 |     276.00 |     0.1737 |            |            |            |     290.35 |     738.41 |            |            |\n",
            "|  SNGS  |     171.63 |      28.21 |     0.0425 |            |            |            |      23.48 |     142.80 |            |            |\n",
            "|  TATN  |     321.66 |     688.20 |     0.0796 |            |            |            |     623.50 |     291.42 |            |            |\n",
            "|  YDEX  |      83.50 |    2611.00 |     0.0207 |            |            |            |    4189.00 |     133.97 |            |            |\n",
            "============================================================================================================================================\n",
            "\n",
            "Время выполнения: 0.59 секунд\n",
            "============================================================================================================================================\n"
          ]
        }
      ]
    }
  ]
}